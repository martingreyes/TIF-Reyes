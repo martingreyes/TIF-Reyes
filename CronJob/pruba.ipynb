{
 "cells": [
  {
   "cell_type": "code",
   "execution_count": null,
   "id": "0f8cb98a",
   "metadata": {},
   "outputs": [],
   "source": [
    "from app.MarketScraper import MarketScraper\n",
    "from app.MariaDBClient import MariaDBClient\n",
    "import pandas as pd\n",
    "from app.tasks import fetch_market_data"
   ]
  },
  {
   "cell_type": "code",
   "execution_count": null,
   "id": "ae6688d4",
   "metadata": {},
   "outputs": [],
   "source": [
    "mariadbclient = MariaDBClient()"
   ]
  },
  {
   "cell_type": "code",
   "execution_count": null,
   "id": "3ea47883",
   "metadata": {},
   "outputs": [],
   "source": [
    "supermercados = mariadbclient.get_active_tables()\n",
    "print(supermercados)"
   ]
  },
  {
   "cell_type": "code",
   "execution_count": null,
   "id": "d16e96d8",
   "metadata": {},
   "outputs": [],
   "source": [
    "resultados = [fetch_market_data.delay(super) for super in supermercados]\n",
    "\n",
    "\n",
    "total_items = []\n",
    "total_stats = []\n",
    "\n",
    "for resultado in resultados:\n",
    "    items_dicts, stats_dicts = resultado.get()\n",
    "    total_items.append(pd.DataFrame(items_dicts))\n",
    "    total_stats.append(pd.DataFrame(stats_dicts))\n",
    "\n",
    "\n",
    "total_items_df = pd.concat(total_items, ignore_index=True)\n",
    "total_stats_df = pd.concat(total_stats, ignore_index=True)"
   ]
  },
  {
   "cell_type": "code",
   "execution_count": null,
   "id": "5ea9c08c",
   "metadata": {},
   "outputs": [],
   "source": [
    "# market_scraper = MarketScraper()\n",
    "# total_items = []\n",
    "# total_stats = []\n",
    "# #TODO Esto hacer con Celery + Task asi no es secuencial y se tarda menos\n",
    "# for supermercado in supermercados:\n",
    "#     data = market_scraper.fetch_data(supermercado)\n",
    "#     items = market_scraper.get_items(data)\n",
    "#     total_items.append(items)\n",
    "#     stas = market_scraper.get_stats(data)\n",
    "#     total_stats.append(stas)\n",
    "\n",
    "# total_items_df = pd.concat(total_items, ignore_index=True)\n",
    "# total_stats_df = pd.concat(total_stats, ignore_index=True)\n",
    "\n",
    "# #4m 46.5s"
   ]
  },
  {
   "cell_type": "code",
   "execution_count": null,
   "id": "22ec9393",
   "metadata": {},
   "outputs": [],
   "source": [
    "display(total_items_df)"
   ]
  },
  {
   "cell_type": "code",
   "execution_count": null,
   "id": "3cad15c2",
   "metadata": {},
   "outputs": [],
   "source": [
    "total_items_df[total_items_df.duplicated(subset='id_producto', keep=False)].sort_values(by='id_producto')\n",
    "\n"
   ]
  },
  {
   "cell_type": "code",
   "execution_count": null,
   "id": "ce78dcbf",
   "metadata": {},
   "outputs": [],
   "source": [
    "display(total_stats_df)"
   ]
  },
  {
   "cell_type": "code",
   "execution_count": null,
   "id": "428aed35",
   "metadata": {},
   "outputs": [],
   "source": [
    "mariadbclient.insert_into_productos(total_items_df)\n",
    "mariadbclient.insert_into_db(\"webscraping_info\", total_stats_df)\n",
    "mariadbclient.insert_into_db(\"historico\", total_items_df)"
   ]
  }
 ],
 "metadata": {
  "kernelspec": {
   "display_name": "venv",
   "language": "python",
   "name": "python3"
  },
  "language_info": {
   "codemirror_mode": {
    "name": "ipython",
    "version": 3
   },
   "file_extension": ".py",
   "mimetype": "text/x-python",
   "name": "python",
   "nbconvert_exporter": "python",
   "pygments_lexer": "ipython3",
   "version": "3.13.2"
  }
 },
 "nbformat": 4,
 "nbformat_minor": 5
}
