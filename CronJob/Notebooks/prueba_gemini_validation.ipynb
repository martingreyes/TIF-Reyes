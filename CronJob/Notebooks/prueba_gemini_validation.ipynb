{
 "cells": [
  {
   "cell_type": "code",
   "execution_count": null,
   "id": "e52db105",
   "metadata": {},
   "outputs": [],
   "source": [
    "#TODO Esto solamente se hace 1 vez\n",
    "#TODO Que gemini clasique todos los productos y lo guarde en un txt. Luego yo a mano cargo le cargo el id_subgrupo\n",
    "#TODO Para esto debo hacer el truncate de productos, poner el asyncio en el MarketScraper, una vaez que los productos del dia esten cargados\n",
    "# TODO correr un codigo como el de Borraodr/gemini que traiga todos los productos de la BD y los clasifique en un .txt , luego yo a mano desde el \n",
    "# TODO DBEABER voy cargando los id_subgrupo "
   ]
  },
  {
   "cell_type": "code",
   "execution_count": 1,
   "id": "06f65b9e",
   "metadata": {},
   "outputs": [],
   "source": [
    "import pandas as pd\n",
    "from sqlalchemy import create_engine\n",
    "user = 'versus'\n",
    "password = 'versus'\n",
    "host = 'localhost' \n",
    "port = 3306\n",
    "database = 'Versus'\n",
    "engine = create_engine(f\"mariadb+mariadbconnector://{user}:{password}@{host}:{port}/{database}\")"
   ]
  },
  {
   "cell_type": "code",
   "execution_count": 10,
   "id": "cbb1c5f1",
   "metadata": {},
   "outputs": [
    {
     "data": {
      "text/plain": [
       "'1931529794'"
      ]
     },
     "execution_count": 10,
     "metadata": {},
     "output_type": "execute_result"
    }
   ],
   "source": [
    "query = \"SELECT DISTINCT id_grupo FROM productos\" \n",
    "ids_grupo_df = pd.read_sql(query, engine)['id_grupo'].tolist() \n",
    "ids_grupo_df[0]"
   ]
  },
  {
   "cell_type": "code",
   "execution_count": 15,
   "id": "edd338ff",
   "metadata": {},
   "outputs": [
    {
     "data": {
      "text/plain": [
       "['0', '1']"
      ]
     },
     "execution_count": 15,
     "metadata": {},
     "output_type": "execute_result"
    }
   ],
   "source": [
    "query = \"SELECT DISTINCT id_subgrupo FROM productos where id_grupo = {}\".format(1792792882) \n",
    "ids_subgrupo = pd.read_sql(query, engine)['id_subgrupo'].tolist() \n",
    "ids_subgrupo"
   ]
  }
 ],
 "metadata": {
  "kernelspec": {
   "display_name": "venv",
   "language": "python",
   "name": "python3"
  },
  "language_info": {
   "codemirror_mode": {
    "name": "ipython",
    "version": 3
   },
   "file_extension": ".py",
   "mimetype": "text/x-python",
   "name": "python",
   "nbconvert_exporter": "python",
   "pygments_lexer": "ipython3",
   "version": "3.13.2"
  }
 },
 "nbformat": 4,
 "nbformat_minor": 5
}
