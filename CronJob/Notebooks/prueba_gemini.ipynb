{
 "cells": [
  {
   "cell_type": "code",
   "execution_count": 1,
   "id": "b277e245",
   "metadata": {},
   "outputs": [],
   "source": [
    "from google.genai import types # type: ignore\n",
    "from google import genai\n",
    "import pandas as pd\n",
    "import sys\n",
    "import os\n",
    "notebook_dir = os.getcwd()\n",
    "parent_dir = os.path.abspath(os.path.join(notebook_dir, '..'))\n",
    "sys.path.append(parent_dir)\n",
    "from app.GeminiClient import GeminiClient\n",
    "import time\n",
    "from app.MariaDBClient import MariaDBClient\n",
    "from app.MarketScraper import MarketScraper\n",
    "import pandas as pd\n",
    "import asyncio"
   ]
  },
  {
   "cell_type": "code",
   "execution_count": 2,
   "id": "b854bb57",
   "metadata": {},
   "outputs": [],
   "source": [
    "# https://www.listendata.com/2024/05/how-to-use-gemini-in-python.html\n",
    "# Create API KEY: https://aistudio.google.com/app/u/0/apikey?pli=1"
   ]
  },
  {
   "cell_type": "code",
   "execution_count": 4,
   "id": "a3645d59",
   "metadata": {},
   "outputs": [],
   "source": [
    "mariadbclient = MariaDBClient()\n",
    "supermercados = mariadbclient.get_active_tables()\n",
    "market_scraper = MarketScraper()\n",
    "total_items = []\n",
    "total_stats = []\n",
    "for supermercado in supermercados:\n",
    "    data = market_scraper.fetch_data(supermercado)\n",
    "    items = market_scraper.get_items(data)\n",
    "    total_items.append(items)\n",
    "    stas = market_scraper.get_stats(data)\n",
    "    total_stats.append(stas)\n",
    "\n",
    "total_items_df = pd.concat(total_items, ignore_index=True)\n",
    "total_stats_df = pd.concat(total_stats, ignore_index=True)\n"
   ]
  },
  {
   "cell_type": "code",
   "execution_count": 5,
   "id": "0a391633",
   "metadata": {},
   "outputs": [],
   "source": [
    "new_items_df = total_items_df"
   ]
  },
  {
   "cell_type": "code",
   "execution_count": 6,
   "id": "b18bb594",
   "metadata": {},
   "outputs": [],
   "source": [
    "old_items_df = mariadbclient.get_products()"
   ]
  },
  {
   "cell_type": "code",
   "execution_count": 7,
   "id": "fbe032ce",
   "metadata": {},
   "outputs": [
    {
     "name": "stdout",
     "output_type": "stream",
     "text": [
      "Nuevos productos: 2\n",
      "Productos ya existentes: 1205\n",
      "Productos ya no existentes: 0\n"
     ]
    }
   ],
   "source": [
    "new_only_df = new_items_df[~new_items_df['id_producto'].isin(old_items_df['id_producto'])] # type: ignore\n",
    "common_df = new_items_df[new_items_df['id_producto'].isin(old_items_df['id_producto'])]\n",
    "old_only_df = old_items_df[~old_items_df['id_producto'].isin(new_items_df['id_producto'])]\n",
    "print(f\"Nuevos productos: {new_only_df.shape[0]}\")\n",
    "print(f\"Productos ya existentes: {common_df.shape[0]}\")\n",
    "print(f\"Productos ya no existentes: {old_only_df.shape[0]}\")"
   ]
  },
  {
   "cell_type": "code",
   "execution_count": 8,
   "id": "0c856456",
   "metadata": {},
   "outputs": [
    {
     "name": "stdout",
     "output_type": "stream",
     "text": [
      "Se eliminaron  0  productos\n",
      "Se actualizaron  1205  productos\n"
     ]
    }
   ],
   "source": [
    "mariadbclient.delete_products(old_only_df)\n",
    "print(\"Se eliminaron \",len(old_only_df), \" productos\")\n",
    "mariadbclient.update_products(common_df)\n",
    "print(\"Se actualizaron \",len(common_df), \" productos\")"
   ]
  },
  {
   "cell_type": "code",
   "execution_count": 10,
   "id": "8da490fd",
   "metadata": {},
   "outputs": [],
   "source": [
    "old_productos_to_update_subgroups_df = mariadbclient.get_products_by_groups(new_only_df)\n",
    "new_productos_to_update_subgroups_df = new_only_df[['id_producto', 'categoria', 'marca', 'descripcion', 'volumen', 'id_supermercado']]\n",
    "new_productos_to_update_subgroups_df = new_productos_to_update_subgroups_df.rename(columns={'id_supermercado': 'supermercado'})\n",
    "new_productos_to_update_subgroups_df['supermercado'] = new_productos_to_update_subgroups_df['supermercado'].map({\n",
    "    1:\"Atomo\",\n",
    "    2:\"Blowmax\",\n",
    "    3:\"ModoMarket\",\n",
    "    4:\"Segal\",\n",
    "    5:\"Supera\"\n",
    "})\n",
    "all_productos_to_upsert_subgroups_df = pd.concat([new_productos_to_update_subgroups_df, old_productos_to_update_subgroups_df], ignore_index=True)\n",
    "all_productos_to_upsert_subgroups_df['producto_id'] = all_productos_to_upsert_subgroups_df['id_producto'].astype(str) + \" - \" + all_productos_to_upsert_subgroups_df['categoria'] + \" - \" + all_productos_to_upsert_subgroups_df['marca'] + \" - \" + all_productos_to_upsert_subgroups_df['descripcion'] + \" - \" + all_productos_to_upsert_subgroups_df['volumen'] + \" - \" + all_productos_to_upsert_subgroups_df['supermercado']\n"
   ]
  },
  {
   "cell_type": "code",
   "execution_count": 11,
   "id": "088cc40e",
   "metadata": {},
   "outputs": [
    {
     "name": "stdout",
     "output_type": "stream",
     "text": [
      "Hay  3  productos que comparten subgrupo con los productos nuevos\n",
      "Hay  2  productos nuevos que hay que asignar subgrupo\n",
      "Hay  5  productos que hay que actualizar su subgrupo\n"
     ]
    }
   ],
   "source": [
    "print(\"Hay \", len(old_productos_to_update_subgroups_df), \" productos que comparten subgrupo con los productos nuevos\")\n",
    "print(\"Hay \", len(new_productos_to_update_subgroups_df), \" productos nuevos que hay que asignar subgrupo\")\n",
    "print(\"Hay \", len(all_productos_to_upsert_subgroups_df), \" productos que hay que actualizar su subgrupo\")"
   ]
  },
  {
   "cell_type": "code",
   "execution_count": 12,
   "id": "761e0175",
   "metadata": {},
   "outputs": [],
   "source": [
    "grouped = all_productos_to_upsert_subgroups_df.groupby(['categoria', 'marca', 'volumen'])\n",
    "listas_productos = [group['producto_id'].tolist() for _, group in grouped]\n",
    "\n",
    "geminiclient = GeminiClient()\n",
    "geminiclient.api_keys\n",
    "\n",
    "total_elementos = sum(len(sublista) for sublista in listas_productos)\n",
    "all_responses = []\n",
    "\n",
    "indice = 0\n",
    "for lista_productos in listas_productos:\n",
    "    with open('agrupacion.txt', 'a') as file:\n",
    "        prompt = listas_productos[indice]\n",
    "        try:\n",
    "            if len(prompt) > 1:\n",
    "                respuesta = geminiclient.ask(prompt)\n",
    "                time.sleep(4.1)\n",
    "            else:\n",
    "                respuesta = [prompt]\n",
    "            all_responses.append(respuesta)\n",
    "        except Exception as e:\n",
    "            print(f\"Error al procesar el prompt: {prompt}\")\n",
    "            print(f\"Error: {e}\")\n",
    "    indice += 1"
   ]
  },
  {
   "cell_type": "code",
   "execution_count": 13,
   "id": "fbba2b2e",
   "metadata": {},
   "outputs": [
    {
     "name": "stdout",
     "output_type": "stream",
     "text": [
      "Gemini tiene que agrupar  5  productos\n",
      "Gemini agrupo  5  productos\n"
     ]
    }
   ],
   "source": [
    "print(\"Gemini tiene que agrupar \",total_elementos, \" productos\")\n",
    "total_agrupados = sum(len(subsublist) for sublist in all_responses for subsublist in sublist)\n",
    "print(\"Gemini agrupo \",total_agrupados, \" productos\")\n"
   ]
  },
  {
   "cell_type": "code",
   "execution_count": 14,
   "id": "1cb63f83",
   "metadata": {},
   "outputs": [
    {
     "data": {
      "text/plain": [
       "[[['199299224 - Gaseosas - COCA COLA - - 354 - Atomo',\n",
       "   '3420491408 - Gaseosas - COCA COLA - - 354 - Blowmax',\n",
       "   '3022578047 - Gaseosas - COCA COLA - - 354 - Modo Market'],\n",
       "  ['1503644882 - Gaseosas - COCA COLA - SIN AZUCAR - 354 - Atomo',\n",
       "   '2841869928 - Gaseosas - COCA COLA - SIN AZUCAR - 354 - Blowmax']]]"
      ]
     },
     "execution_count": 14,
     "metadata": {},
     "output_type": "execute_result"
    }
   ],
   "source": [
    "all_responses"
   ]
  },
  {
   "cell_type": "code",
   "execution_count": 15,
   "id": "1144a90d",
   "metadata": {},
   "outputs": [],
   "source": [
    "olds_ids = set(old_productos_to_update_subgroups_df['id_producto'])\n",
    "news_ids = set(new_items_df['id_producto'])\n",
    "\n",
    "# Preparamos las estructuras de resultados\n",
    "updates = []\n",
    "descartados = []\n",
    "\n",
    "# Creamos un diccionario para mapear rápidamente los IDs a sus índices en new_items_df\n",
    "new_items_index = {id_producto: idx for idx, id_producto in enumerate(new_items_df['id_producto'])}\n",
    "\n",
    "# Procesamos todas las respuestas\n",
    "for respuesta in all_responses:\n",
    "    for j, subgrupo in enumerate(respuesta):\n",
    "        ids_productos = [item.partition(' - ')[0].strip() for item in subgrupo]  # .strip() para eliminar espacios\n",
    "        \n",
    "        for id_producto_str in ids_productos:\n",
    "  \n",
    "                id_producto = int(id_producto_str)\n",
    "                \n",
    "                if id_producto in olds_ids:\n",
    "                    updates.append({ \n",
    "                        \"id_producto\": id_producto,\n",
    "                        \"id_subgrupo\": j\n",
    "                    })\n",
    "                elif id_producto in news_ids:\n",
    "                    idx = new_items_index[id_producto]\n",
    "                    new_only_df.at[idx, 'id_subgrupo'] = j\n",
    "                else:\n",
    "                    descartados.append(id_producto_str)\n"
   ]
  },
  {
   "cell_type": "code",
   "execution_count": 16,
   "id": "a21e1cbe",
   "metadata": {},
   "outputs": [
    {
     "data": {
      "application/vnd.microsoft.datawrangler.viewer.v0+json": {
       "columns": [
        {
         "name": "index",
         "rawType": "int64",
         "type": "integer"
        },
        {
         "name": "__ingestion_timestamp",
         "rawType": "datetime64[us]",
         "type": "unknown"
        },
        {
         "name": "nombre_crudo",
         "rawType": "object",
         "type": "string"
        },
        {
         "name": "id_producto",
         "rawType": "int64",
         "type": "integer"
        },
        {
         "name": "categoria",
         "rawType": "object",
         "type": "string"
        },
        {
         "name": "nombre",
         "rawType": "object",
         "type": "string"
        },
        {
         "name": "marca",
         "rawType": "object",
         "type": "string"
        },
        {
         "name": "descripcion",
         "rawType": "object",
         "type": "string"
        },
        {
         "name": "volumen",
         "rawType": "object",
         "type": "string"
        },
        {
         "name": "precio",
         "rawType": "float64",
         "type": "float"
        },
        {
         "name": "id_supermercado",
         "rawType": "int64",
         "type": "integer"
        },
        {
         "name": "id_grupo",
         "rawType": "int64",
         "type": "integer"
        },
        {
         "name": "id_subgrupo",
         "rawType": "float64",
         "type": "float"
        },
        {
         "name": "url",
         "rawType": "object",
         "type": "string"
        }
       ],
       "conversionMethod": "pd.DataFrame",
       "ref": "e0b6e536-8b6c-47e9-af20-5f4c88243ea2",
       "rows": [
        [
         "230",
         "2025-04-29 22:35:17.991353",
         "GASEOSAS COCA COLA LATA 354 CC.",
         "199299224",
         "Gaseosas",
         "COCA COLA  354",
         "COCA COLA",
         "",
         "354",
         "950.0",
         "1",
         "1792792882",
         "0.0",
         "https://atomoconviene.com/atomo-ecommerce/cola/59026-gaseosas-coca-cola-lata-354-cc---7790895000232.html"
        ],
        [
         "231",
         "2025-04-29 22:35:17.991353",
         "GASEOSA COCA COLA ZERO LATA 354 CC.",
         "1503644882",
         "Gaseosas",
         "COCA COLA SIN AZUCAR 354",
         "COCA COLA",
         "SIN AZUCAR",
         "354",
         "950.0",
         "1",
         "1792792882",
         "1.0",
         "https://atomoconviene.com/atomo-ecommerce/gaseosas/98581-gaseosa-coca-cola-zero-lata-354-cc---7790895067587.html"
        ]
       ],
       "shape": {
        "columns": 13,
        "rows": 2
       }
      },
      "text/html": [
       "<div>\n",
       "<style scoped>\n",
       "    .dataframe tbody tr th:only-of-type {\n",
       "        vertical-align: middle;\n",
       "    }\n",
       "\n",
       "    .dataframe tbody tr th {\n",
       "        vertical-align: top;\n",
       "    }\n",
       "\n",
       "    .dataframe thead th {\n",
       "        text-align: right;\n",
       "    }\n",
       "</style>\n",
       "<table border=\"1\" class=\"dataframe\">\n",
       "  <thead>\n",
       "    <tr style=\"text-align: right;\">\n",
       "      <th></th>\n",
       "      <th>__ingestion_timestamp</th>\n",
       "      <th>nombre_crudo</th>\n",
       "      <th>id_producto</th>\n",
       "      <th>categoria</th>\n",
       "      <th>nombre</th>\n",
       "      <th>marca</th>\n",
       "      <th>descripcion</th>\n",
       "      <th>volumen</th>\n",
       "      <th>precio</th>\n",
       "      <th>id_supermercado</th>\n",
       "      <th>id_grupo</th>\n",
       "      <th>id_subgrupo</th>\n",
       "      <th>url</th>\n",
       "    </tr>\n",
       "  </thead>\n",
       "  <tbody>\n",
       "    <tr>\n",
       "      <th>230</th>\n",
       "      <td>2025-04-29 22:35:17.991353</td>\n",
       "      <td>GASEOSAS COCA COLA LATA 354 CC.</td>\n",
       "      <td>199299224</td>\n",
       "      <td>Gaseosas</td>\n",
       "      <td>COCA COLA  354</td>\n",
       "      <td>COCA COLA</td>\n",
       "      <td></td>\n",
       "      <td>354</td>\n",
       "      <td>950.0</td>\n",
       "      <td>1</td>\n",
       "      <td>1792792882</td>\n",
       "      <td>0.0</td>\n",
       "      <td>https://atomoconviene.com/atomo-ecommerce/cola...</td>\n",
       "    </tr>\n",
       "    <tr>\n",
       "      <th>231</th>\n",
       "      <td>2025-04-29 22:35:17.991353</td>\n",
       "      <td>GASEOSA COCA COLA ZERO LATA 354 CC.</td>\n",
       "      <td>1503644882</td>\n",
       "      <td>Gaseosas</td>\n",
       "      <td>COCA COLA SIN AZUCAR 354</td>\n",
       "      <td>COCA COLA</td>\n",
       "      <td>SIN AZUCAR</td>\n",
       "      <td>354</td>\n",
       "      <td>950.0</td>\n",
       "      <td>1</td>\n",
       "      <td>1792792882</td>\n",
       "      <td>1.0</td>\n",
       "      <td>https://atomoconviene.com/atomo-ecommerce/gase...</td>\n",
       "    </tr>\n",
       "  </tbody>\n",
       "</table>\n",
       "</div>"
      ],
      "text/plain": [
       "         __ingestion_timestamp                         nombre_crudo  \\\n",
       "230 2025-04-29 22:35:17.991353      GASEOSAS COCA COLA LATA 354 CC.   \n",
       "231 2025-04-29 22:35:17.991353  GASEOSA COCA COLA ZERO LATA 354 CC.   \n",
       "\n",
       "     id_producto categoria                    nombre      marca descripcion  \\\n",
       "230    199299224  Gaseosas            COCA COLA  354  COCA COLA               \n",
       "231   1503644882  Gaseosas  COCA COLA SIN AZUCAR 354  COCA COLA  SIN AZUCAR   \n",
       "\n",
       "    volumen  precio  id_supermercado    id_grupo  id_subgrupo  \\\n",
       "230     354   950.0                1  1792792882          0.0   \n",
       "231     354   950.0                1  1792792882          1.0   \n",
       "\n",
       "                                                   url  \n",
       "230  https://atomoconviene.com/atomo-ecommerce/cola...  \n",
       "231  https://atomoconviene.com/atomo-ecommerce/gase...  "
      ]
     },
     "execution_count": 16,
     "metadata": {},
     "output_type": "execute_result"
    }
   ],
   "source": [
    "new_only_df"
   ]
  },
  {
   "cell_type": "code",
   "execution_count": 17,
   "id": "07399250",
   "metadata": {},
   "outputs": [
    {
     "data": {
      "text/plain": [
       "[{'id_producto': 3420491408, 'id_subgrupo': 0},\n",
       " {'id_producto': 3022578047, 'id_subgrupo': 0},\n",
       " {'id_producto': 2841869928, 'id_subgrupo': 1}]"
      ]
     },
     "execution_count": 17,
     "metadata": {},
     "output_type": "execute_result"
    }
   ],
   "source": [
    "updates"
   ]
  },
  {
   "cell_type": "code",
   "execution_count": 18,
   "id": "3f634dd3",
   "metadata": {},
   "outputs": [
    {
     "data": {
      "text/plain": [
       "[]"
      ]
     },
     "execution_count": 18,
     "metadata": {},
     "output_type": "execute_result"
    }
   ],
   "source": [
    "descartados"
   ]
  },
  {
   "cell_type": "code",
   "execution_count": 19,
   "id": "9ef6597d",
   "metadata": {},
   "outputs": [],
   "source": [
    "mariadbclient.insert_into_productos(new_only_df)\n",
    "mariadbclient.update_product_subgroups(updates)"
   ]
  }
 ],
 "metadata": {
  "kernelspec": {
   "display_name": "venv",
   "language": "python",
   "name": "python3"
  },
  "language_info": {
   "codemirror_mode": {
    "name": "ipython",
    "version": 3
   },
   "file_extension": ".py",
   "mimetype": "text/x-python",
   "name": "python",
   "nbconvert_exporter": "python",
   "pygments_lexer": "ipython3",
   "version": "3.13.2"
  }
 },
 "nbformat": 4,
 "nbformat_minor": 5
}
